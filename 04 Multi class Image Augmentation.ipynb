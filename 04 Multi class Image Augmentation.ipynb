{
 "cells": [
  {
   "cell_type": "code",
   "execution_count": 12,
   "id": "60935e52-1863-4726-beec-d257e9c50ee6",
   "metadata": {},
   "outputs": [
    {
     "name": "stdout",
     "output_type": "stream",
     "text": [
      "Found 23 images belonging to 4 classes.\n"
     ]
    }
   ],
   "source": [
    "from keras.preprocessing.image import ImageDataGenerator\n",
    "from skimage import io\n",
    "\n",
    "datagen = ImageDataGenerator(        \n",
    "        rotation_range = 40,\n",
    "        shear_range = 0.2,\n",
    "        zoom_range = 0.2,\n",
    "        horizontal_flip = True,\n",
    "        brightness_range = (0.5, 1.5),\n",
    "        fill_mode = 'reflect'    \n",
    ")\n",
    "import numpy as np\n",
    "import os\n",
    "\n",
    "\n",
    "i = 0\n",
    "for batch in datagen.flow_from_directory(directory ='C:\\\\Users\\\\Surya Teja\\\\Desktop\\\\NUMBER PLATE',\n",
    "                                         batch_size = 16,\n",
    "                                         target_size =(32,32),\n",
    "                                         color_mode ='rgb',\n",
    "                                         save_to_dir='C:\\\\Users\\\\Surya Teja\\\\Desktop\\\\augmented',\n",
    "                                         save_prefix='aug',\n",
    "                                         save_format='png'):\n",
    "    i += 1\n",
    "    if i>31:\n",
    "        break\n",
    "    \n",
    "                                    \n",
    "    \n",
    "                                        \n",
    "\n",
    "\n",
    "\n",
    "\n"
   ]
  },
  {
   "cell_type": "code",
   "execution_count": null,
   "id": "07f7c344-083b-4abd-94cb-406b044f4d89",
   "metadata": {},
   "outputs": [],
   "source": []
  }
 ],
 "metadata": {
  "kernelspec": {
   "display_name": "Python 3",
   "language": "python",
   "name": "python3"
  },
  "language_info": {
   "codemirror_mode": {
    "name": "ipython",
    "version": 3
   },
   "file_extension": ".py",
   "mimetype": "text/x-python",
   "name": "python",
   "nbconvert_exporter": "python",
   "pygments_lexer": "ipython3",
   "version": "3.8.8"
  }
 },
 "nbformat": 4,
 "nbformat_minor": 5
}
