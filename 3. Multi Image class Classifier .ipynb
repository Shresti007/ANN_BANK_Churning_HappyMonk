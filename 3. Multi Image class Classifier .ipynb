{
 "cells": [
  {
   "cell_type": "code",
   "execution_count": 9,
   "id": "a32d147c-f31c-4b95-8c02-817bc7fa1daf",
   "metadata": {},
   "outputs": [
    {
     "name": "stdout",
     "output_type": "stream",
     "text": [
      "Defaulting to user installation because normal site-packages is not writeable\n",
      "Requirement already satisfied: opencv-contrib-python in c:\\users\\surya teja\\appdata\\roaming\\python\\python310\\site-packages (4.6.0.66)\n",
      "Requirement already satisfied: numpy>=1.19.3 in c:\\users\\surya teja\\appdata\\roaming\\python\\python310\\site-packages (from opencv-contrib-python) (1.22.4)\n",
      "\n",
      "[notice] A new release of pip available: 22.2 -> 22.2.2\n",
      "[notice] To update, run: python.exe -m pip install --upgrade pip\n",
      "Defaulting to user installation because normal site-packages is not writeable\n",
      "Requirement already satisfied: opencv-python in c:\\users\\surya teja\\appdata\\roaming\\python\\python310\\site-packages (4.6.0.66)\n",
      "Requirement already satisfied: numpy>=1.21.2 in c:\\users\\surya teja\\appdata\\roaming\\python\\python310\\site-packages (from opencv-python) (1.22.4)\n",
      "\n",
      "[notice] A new release of pip available: 22.2 -> 22.2.2\n",
      "[notice] To update, run: python.exe -m pip install --upgrade pip\n"
     ]
    }
   ],
   "source": [
    "%matplotlib inline\n",
    "# !pip install cv2\n",
    "!pip install opencv-contrib-python\n",
    "!pip install opencv-python\n",
    "\n",
    "import os\n",
    "import numpy as np\n",
    "import cv2\n",
    "import matplotlib.pyplot as plt\n",
    "import pickle\n",
    "import random\n",
    "from sklearn.model_selection import train_test_split\n",
    "from sklearn.svm import SVC\n",
    "\n",
    "from sklearn.metrics import accuracy_score,confusion_matrix,classification_report\n",
    "import numpy as np\n"
   ]
  },
  {
   "cell_type": "code",
   "execution_count": 2,
   "id": "75ed53ba-145e-45b7-8cd5-d2e78a5521b7",
   "metadata": {},
   "outputs": [],
   "source": [
    "dir =\"C:\\\\Users\\\\Surya Teja\\\\Desktop\\\\petImage\""
   ]
  },
  {
   "cell_type": "code",
   "execution_count": 3,
   "id": "4f86e43b-4e75-4852-a89c-8bee480f7485",
   "metadata": {},
   "outputs": [
    {
     "name": "stdout",
     "output_type": "stream",
     "text": [
      "2001\n"
     ]
    }
   ],
   "source": [
    "# categories = ['cat', 'dog']\n",
    "\n",
    "# data = []\n",
    "\n",
    "# for category in categories:\n",
    "#     path = os.path.join(dir, category)\n",
    "#     label = categories.index(category)\n",
    "    \n",
    "#     for img in os.listdir(path):\n",
    "#         imgpath = os.path.join(path, img)\n",
    "#         pet_img = cv2.imread(imgpath,0)\n",
    "#         try:\n",
    "#             pet_img = cv2.resize(pet_img,(50,50))\n",
    "# # making image single array\n",
    "#             image = np.array(pet_img).flatten()\n",
    "#             data.append([image,label])\n",
    "#         except Exception as e:\n",
    "#             pass\n",
    "\n",
    "# print(len(data))        \n",
    "\n",
    "\n",
    "# pick_in = open('data1.pickle','wb')\n",
    "# pickle.dump(data,pick_in)\n",
    "# pick_in.close()"
   ]
  },
  {
   "cell_type": "code",
   "execution_count": 30,
   "id": "9c5a993f-9ae5-4955-966b-efc86fe5f1bd",
   "metadata": {},
   "outputs": [
    {
     "name": "stdout",
     "output_type": "stream",
     "text": [
      "accuracy:  1.0\n",
      "Prediction is  :  cat\n"
     ]
    },
    {
     "data": {
      "image/png": "[encoded data removed]",
      "text/plain": [
       "<Figure size 432x288 with 1 Axes>"
      ]
     },
     "metadata": {
      "needs_background": "light"
     },
     "output_type": "display_data"
    }
   ],
   "source": [
    "# to read the file\n",
    "pick_in = open(\"C:\\\\Users\\\\Surya Teja\\\\Desktop\\\\data1.pickle\",'rb')\n",
    "data = pickle.load(pick_in)\n",
    "pick_in.close()\n",
    "\n",
    "\n",
    "random.shuffle(data)\n",
    "features = []\n",
    "labels = []\n",
    "\n",
    "for feature,label in data:\n",
    "    features.append(feature)\n",
    "    labels.append(label)\n",
    "    \n",
    "x_train, x_test, y_train,y_test = train_test_split(features, labels, test_size = 0.25)\n",
    "\n",
    "model = SVC(C=1, kernel='poly', gamma ='auto')\n",
    "model.fit(x_train,y_train)\n",
    "\n",
    "y_pred = model.predict(x_test)\n",
    "y_pred\n",
    "accuracy = accuracy_score(y_test,y_test)\n",
    "\n",
    "categories =['cat', 'dog']\n",
    "\n",
    "print(\"accuracy: \", accuracy)\n",
    "\n",
    "print('Prediction is  : ',categories[y_pred[100]] )\n",
    "\n",
    "mypet = x_test[50].reshape(50,50)\n",
    "plt.imshow(mypet,cmap='gray')\n",
    "plt.show()"
   ]
  },
  {
   "cell_type": "code",
   "execution_count": 31,
   "id": "7efbdf26-037f-4435-8a40-e3f772998732",
   "metadata": {},
   "outputs": [
    {
     "name": "stdout",
     "output_type": "stream",
     "text": [
      "              precision    recall  f1-score   support\n",
      "\n",
      "           0       0.63      0.54      0.58       276\n",
      "           1       0.52      0.61      0.56       225\n",
      "\n",
      "    accuracy                           0.57       501\n",
      "   macro avg       0.58      0.58      0.57       501\n",
      "weighted avg       0.58      0.57      0.58       501\n",
      "\n"
     ]
    }
   ],
   "source": [
    "print(classification_report(y_pred,y_test))"
   ]
  },
  {
   "cell_type": "code",
   "execution_count": 32,
   "id": "51cd1203-569b-48db-8fcc-4070559034a5",
   "metadata": {},
   "outputs": [],
   "source": [
    "# for writing a file\n",
    "# pick = open('medal.sav','wb')\n",
    "# pickle.dump(model,pick)\n",
    "# pick.close()"
   ]
  },
  {
   "cell_type": "code",
   "execution_count": 33,
   "id": "73a28dc9-88a5-48e9-90a4-06619d6e7b33",
   "metadata": {},
   "outputs": [
    {
     "data": {
      "image/png": "[encoded data removed]",
      "text/plain": [
       "<Figure size 432x288 with 1 Axes>"
      ]
     },
     "metadata": {
      "needs_background": "light"
     },
     "output_type": "display_data"
    }
   ],
   "source": [
    "# pick = open('medal.sav','rb')\n",
    "# model = pickle.load(pick)\n",
    "# pick.close()\n",
    "\n",
    "# y_pred = model.predict(x_test)\n",
    "# accuracy = model.score(x_test,y_test)\n",
    "\n",
    "# categories =['cat', 'dog']\n",
    "\n",
    "# print(\"accuracy: \", accuracy)\n",
    "\n",
    "# print('Prediction is  : ',categories[y_pred[5]] )\n",
    "\n",
    "mypet = x_test[5].reshape(50,50)\n",
    "plt.imshow(mypet,cmap='gray')\n",
    "plt.show()"
   ]
  },
  {
   "cell_type": "markdown",
   "id": "91cd4fa6-553a-4394-81fc-fdd50d96ec31",
   "metadata": {},
   "source": [
    "## Now presenting data with random classifier"
   ]
  },
  {
   "cell_type": "code",
   "execution_count": 34,
   "id": "f87ad5c7-302f-4c06-b1ef-7f51fc8e5fc6",
   "metadata": {},
   "outputs": [
    {
     "data": {
      "text/plain": [
       "array([1, 1, 0, 1, 1, 0, 1, 0, 0, 0, 0, 0, 0, 0, 0, 0, 0, 0, 0, 1, 1, 0,\n",
       "       1, 1, 1, 0, 1, 1, 0, 0, 0, 0, 0, 0, 0, 0, 0, 0, 0, 1, 0, 0, 1, 1,\n",
       "       0, 1, 0, 1, 0, 0, 0, 0, 1, 0, 0, 0, 0, 1, 0, 0, 1, 0, 0, 1, 1, 0,\n",
       "       0, 0, 0, 1, 1, 0, 1, 0, 1, 1, 1, 1, 0, 0, 0, 0, 0, 0, 1, 0, 0, 0,\n",
       "       0, 1, 0, 0, 1, 0, 1, 1, 0, 0, 1, 0, 0, 1, 0, 0, 1, 1, 0, 0, 1, 1,\n",
       "       1, 1, 0, 0, 1, 0, 0, 0, 0, 0, 1, 0, 0, 0, 0, 0, 0, 0, 0, 0, 1, 1,\n",
       "       1, 0, 0, 0, 0, 1, 1, 0, 0, 0, 0, 0, 0, 0, 0, 1, 1, 0, 1, 1, 0, 1,\n",
       "       1, 1, 0, 0, 1, 0, 0, 0, 1, 0, 1, 1, 0, 1, 1, 0, 0, 0, 0, 0, 1, 0,\n",
       "       1, 0, 0, 1, 0, 1, 0, 1, 0, 1, 0, 1, 0, 0, 0, 0, 1, 0, 0, 1, 0, 0,\n",
       "       0, 1, 0, 0, 0, 0, 1, 0, 1, 0, 0, 0, 0, 0, 1, 1, 1, 1, 1, 0, 1, 1,\n",
       "       0, 1, 1, 0, 0, 1, 0, 0, 0, 0, 0, 0, 0, 1, 1, 1, 0, 0, 0, 1, 0, 0,\n",
       "       0, 0, 0, 0, 0, 0, 1, 1, 0, 0, 1, 1, 1, 0, 1, 0, 1, 0, 0, 0, 1, 0,\n",
       "       0, 0, 1, 0, 0, 0, 0, 1, 0, 0, 0, 1, 0, 0, 0, 1, 0, 1, 0, 0, 1, 0,\n",
       "       0, 0, 0, 0, 1, 1, 0, 0, 1, 0, 0, 0, 0, 0, 1, 0, 0, 0, 1, 0, 0, 1,\n",
       "       0, 0, 1, 0, 1, 0, 1, 0, 0, 1, 1, 0, 1, 1, 0, 0, 0, 0, 0, 1, 0, 1,\n",
       "       0, 0, 1, 1, 1, 1, 1, 0, 0, 0, 0, 1, 1, 0, 1, 0, 1, 0, 0, 1, 1, 1,\n",
       "       0, 1, 0, 0, 0, 0, 1, 0, 0, 1, 0, 0, 0, 0, 0, 0, 1, 1, 0, 0, 1, 0,\n",
       "       1, 0, 1, 0, 0, 0, 0, 0, 0, 1, 0, 0, 1, 1, 0, 1, 0, 0, 1, 1, 0, 0,\n",
       "       0, 1, 1, 1, 1, 0, 0, 1, 0, 1, 0, 0, 1, 1, 1, 0, 0, 0, 0, 1, 0, 0,\n",
       "       1, 0, 1, 0, 0, 1, 1, 0, 1, 1, 0, 0, 0, 0, 0, 0, 0, 0, 1, 1, 1, 0,\n",
       "       0, 1, 0, 0, 1, 1, 0, 1, 0, 0, 1, 0, 0, 1, 0, 0, 0, 0, 0, 0, 0, 1,\n",
       "       0, 0, 0, 0, 1, 1, 1, 0, 0, 1, 0, 0, 1, 0, 0, 0, 1, 1, 1, 0, 0, 1,\n",
       "       0, 1, 1, 0, 1, 1, 0, 1, 0, 0, 0, 0, 1, 0, 1, 1, 0])"
      ]
     },
     "execution_count": 34,
     "metadata": {},
     "output_type": "execute_result"
    }
   ],
   "source": [
    "from sklearn.ensemble import RandomForestClassifier\n",
    "classifier = RandomForestClassifier(n_estimators = 10, criterion = 'entropy', random_state = 0)\n",
    "classifier.fit(x_train, y_train)\n",
    "y_pred=classifier.predict(x_test)\n",
    "y_pred"
   ]
  },
  {
   "cell_type": "code",
   "execution_count": 35,
   "id": "fdfb0689-be94-40e2-b9c4-d3174c80dfef",
   "metadata": {},
   "outputs": [
    {
     "name": "stdout",
     "output_type": "stream",
     "text": [
      "              precision    recall  f1-score   support\n",
      "\n",
      "           0       0.68      0.51      0.59       315\n",
      "           1       0.42      0.60      0.49       186\n",
      "\n",
      "    accuracy                           0.54       501\n",
      "   macro avg       0.55      0.56      0.54       501\n",
      "weighted avg       0.59      0.54      0.55       501\n",
      "\n"
     ]
    }
   ],
   "source": [
    "accuracy_score(y_pred,y_test)\n",
    "print(classification_report(y_pred,y_test))"
   ]
  },
  {
   "cell_type": "code",
   "execution_count": null,
   "id": "b77a0412-e3d7-4524-a09a-aa35ddcc8e86",
   "metadata": {},
   "outputs": [],
   "source": []
  }
 ],
 "metadata": {
  "kernelspec": {
   "display_name": "Python 3",
   "language": "python",
   "name": "python3"
  },
  "language_info": {
   "codemirror_mode": {
    "name": "ipython",
    "version": 3
   },
   "file_extension": ".py",
   "mimetype": "text/x-python",
   "name": "python",
   "nbconvert_exporter": "python",
   "pygments_lexer": "ipython3",
   "version": "3.8.8"
  }
 },
 "nbformat": 4,
 "nbformat_minor": 5
}
